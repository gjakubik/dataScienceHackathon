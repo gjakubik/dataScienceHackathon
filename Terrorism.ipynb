{
 "metadata": {
  "language_info": {
   "codemirror_mode": {
    "name": "ipython",
    "version": 3
   },
   "file_extension": ".py",
   "mimetype": "text/x-python",
   "name": "python",
   "nbconvert_exporter": "python",
   "pygments_lexer": "ipython3",
   "version": "3.8.3-final"
  },
  "orig_nbformat": 2,
  "kernelspec": {
   "name": "Python 3.8.3 64-bit ('base': conda)",
   "display_name": "Python 3.8.3 64-bit ('base': conda)",
   "metadata": {
    "interpreter": {
     "hash": "dca0ade3e726a953b501b15e8e990130d2b7799f14cfd9f4271676035ebe5511"
    }
   }
  }
 },
 "nbformat": 4,
 "nbformat_minor": 2,
 "cells": [
  {
   "source": [
    "\n",
    "def penis_length(name):\n",
    "    if name == 'wally':\n",
    "        penis = 0\n",
    "        return print('my name is {} and I have a {} inch pipi'.format(name,penis))\n",
    "    else:\n",
    "        return print('my name is {} and my penis is bigger than wallys thats for sure!'.format(name))\n",
    "\n",
    "\n",
    "penis_length('wally')\n",
    "penis_length('gavin')\n",
    "penis_length('ico')\n",
    "\n"
   ],
   "cell_type": "code",
   "metadata": {
    "tags": []
   },
   "execution_count": 26,
   "outputs": [
    {
     "output_type": "stream",
     "name": "stdout",
     "text": "my name is wally and I have a 0 inch pipi\nmy name is gavin and my penis is bigger than wallys thats for sure!\nmy name is ico and my penis is bigger than wallys thats for sure!\n"
    }
   ]
  }
 ]
}